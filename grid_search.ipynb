{
 "cells": [
  {
   "cell_type": "code",
   "execution_count": 1,
   "id": "a258edc8",
   "metadata": {},
   "outputs": [],
   "source": [
    "import pandas as pd\n",
    "import numpy as np\n",
    "import matplotlib.pyplot as plt\n",
    "\n",
    "from tensorflow.keras.preprocessing.text import Tokenizer\n",
    "from tensorflow.keras.preprocessing.sequence import pad_sequences\n",
    "from tensorflow.keras.utils import to_categorical\n",
    "from tensorflow.keras.layers import Embedding, LSTM, Dense, Dropout, Bidirectional\n",
    "from tensorflow.keras.models import Sequential\n",
    "\n",
    "import datetime\n",
    "from keras.callbacks import TensorBoard\n",
    "from keras.callbacks import ModelCheckpoint\n",
    "\n",
    "from keras.wrappers.scikit_learn import KerasClassifier\n",
    "from sklearn.model_selection import GridSearchCV"
   ]
  },
  {
   "cell_type": "code",
   "execution_count": 3,
   "id": "a847aaf8",
   "metadata": {},
   "outputs": [],
   "source": [
    "# Load Data\n",
    "data = pd.read_csv('kaggle_poem_dataset.csv',index_col=0) "
   ]
  },
  {
   "cell_type": "code",
   "execution_count": 4,
   "id": "29d38667",
   "metadata": {},
   "outputs": [
    {
     "data": {
      "text/html": [
       "<div>\n",
       "<style scoped>\n",
       "    .dataframe tbody tr th:only-of-type {\n",
       "        vertical-align: middle;\n",
       "    }\n",
       "\n",
       "    .dataframe tbody tr th {\n",
       "        vertical-align: top;\n",
       "    }\n",
       "\n",
       "    .dataframe thead th {\n",
       "        text-align: right;\n",
       "    }\n",
       "</style>\n",
       "<table border=\"1\" class=\"dataframe\">\n",
       "  <thead>\n",
       "    <tr style=\"text-align: right;\">\n",
       "      <th></th>\n",
       "      <th>Author</th>\n",
       "      <th>Title</th>\n",
       "      <th>Poetry Foundation ID</th>\n",
       "      <th>Content</th>\n",
       "    </tr>\n",
       "  </thead>\n",
       "  <tbody>\n",
       "    <tr>\n",
       "      <th>0</th>\n",
       "      <td>Wendy Videlock</td>\n",
       "      <td>!</td>\n",
       "      <td>55489</td>\n",
       "      <td>Dear Writers, I’m compiling the first in what ...</td>\n",
       "    </tr>\n",
       "    <tr>\n",
       "      <th>1</th>\n",
       "      <td>Hailey Leithauser</td>\n",
       "      <td>0</td>\n",
       "      <td>41729</td>\n",
       "      <td>Philosophic\\nin its complex, ovoid emptiness,\\...</td>\n",
       "    </tr>\n",
       "    <tr>\n",
       "      <th>2</th>\n",
       "      <td>Jody Gladding</td>\n",
       "      <td>1-800-FEAR</td>\n",
       "      <td>57135</td>\n",
       "      <td>We'd  like  to  talk  with  you  about  fear t...</td>\n",
       "    </tr>\n",
       "    <tr>\n",
       "      <th>3</th>\n",
       "      <td>Joseph Brodsky</td>\n",
       "      <td>1 January 1965</td>\n",
       "      <td>56736</td>\n",
       "      <td>The Wise Men will unlearn your name.\\nAbove yo...</td>\n",
       "    </tr>\n",
       "    <tr>\n",
       "      <th>4</th>\n",
       "      <td>Ted Berrigan</td>\n",
       "      <td>3 Pages</td>\n",
       "      <td>51624</td>\n",
       "      <td>For Jack Collom\\n10 Things I do Every Day\\n\\np...</td>\n",
       "    </tr>\n",
       "    <tr>\n",
       "      <th>...</th>\n",
       "      <td>...</td>\n",
       "      <td>...</td>\n",
       "      <td>...</td>\n",
       "      <td>...</td>\n",
       "    </tr>\n",
       "    <tr>\n",
       "      <th>15647</th>\n",
       "      <td>Hannah Gamble</td>\n",
       "      <td>Your Invitation to a Modest Breakfast</td>\n",
       "      <td>56059</td>\n",
       "      <td>It’s too cold to smoke outside, but if you com...</td>\n",
       "    </tr>\n",
       "    <tr>\n",
       "      <th>15648</th>\n",
       "      <td>Eleni Sikelianos</td>\n",
       "      <td>Your Kingdom\\n \\n \\n  \\n   Launch Audio in a N...</td>\n",
       "      <td>145220</td>\n",
       "      <td>if you like let the body feel\\nall its own evo...</td>\n",
       "    </tr>\n",
       "    <tr>\n",
       "      <th>15649</th>\n",
       "      <td>Susan Elizabeth Howe</td>\n",
       "      <td>“Your Luck Is About To Change”</td>\n",
       "      <td>41696</td>\n",
       "      <td>(A fortune cookie)\\nOminous inscrutable Chines...</td>\n",
       "    </tr>\n",
       "    <tr>\n",
       "      <th>15650</th>\n",
       "      <td>Andrew Shields</td>\n",
       "      <td>Your Mileage May Vary</td>\n",
       "      <td>90177</td>\n",
       "      <td>1\\nOur last night in the house was not our las...</td>\n",
       "    </tr>\n",
       "    <tr>\n",
       "      <th>15651</th>\n",
       "      <td>Joseph O. Legaspi</td>\n",
       "      <td>Your Mother Wears a House Dress</td>\n",
       "      <td>91304</td>\n",
       "      <td>If your house\\nis a dress\\nit’ll fit like\\nLos...</td>\n",
       "    </tr>\n",
       "  </tbody>\n",
       "</table>\n",
       "<p>15652 rows × 4 columns</p>\n",
       "</div>"
      ],
      "text/plain": [
       "                     Author  \\\n",
       "0            Wendy Videlock   \n",
       "1         Hailey Leithauser   \n",
       "2             Jody Gladding   \n",
       "3            Joseph Brodsky   \n",
       "4              Ted Berrigan   \n",
       "...                     ...   \n",
       "15647         Hannah Gamble   \n",
       "15648      Eleni Sikelianos   \n",
       "15649  Susan Elizabeth Howe   \n",
       "15650        Andrew Shields   \n",
       "15651     Joseph O. Legaspi   \n",
       "\n",
       "                                                   Title  \\\n",
       "0                                                      !   \n",
       "1                                                      0   \n",
       "2                                             1-800-FEAR   \n",
       "3                                         1 January 1965   \n",
       "4                                                3 Pages   \n",
       "...                                                  ...   \n",
       "15647              Your Invitation to a Modest Breakfast   \n",
       "15648  Your Kingdom\\n \\n \\n  \\n   Launch Audio in a N...   \n",
       "15649                     “Your Luck Is About To Change”   \n",
       "15650                              Your Mileage May Vary   \n",
       "15651                    Your Mother Wears a House Dress   \n",
       "\n",
       "       Poetry Foundation ID                                            Content  \n",
       "0                     55489  Dear Writers, I’m compiling the first in what ...  \n",
       "1                     41729  Philosophic\\nin its complex, ovoid emptiness,\\...  \n",
       "2                     57135  We'd  like  to  talk  with  you  about  fear t...  \n",
       "3                     56736  The Wise Men will unlearn your name.\\nAbove yo...  \n",
       "4                     51624  For Jack Collom\\n10 Things I do Every Day\\n\\np...  \n",
       "...                     ...                                                ...  \n",
       "15647                 56059  It’s too cold to smoke outside, but if you com...  \n",
       "15648                145220  if you like let the body feel\\nall its own evo...  \n",
       "15649                 41696  (A fortune cookie)\\nOminous inscrutable Chines...  \n",
       "15650                 90177  1\\nOur last night in the house was not our las...  \n",
       "15651                 91304  If your house\\nis a dress\\nit’ll fit like\\nLos...  \n",
       "\n",
       "[15652 rows x 4 columns]"
      ]
     },
     "execution_count": 4,
     "metadata": {},
     "output_type": "execute_result"
    }
   ],
   "source": [
    "data"
   ]
  },
  {
   "cell_type": "code",
   "execution_count": 5,
   "id": "2f9e06ad",
   "metadata": {},
   "outputs": [
    {
     "name": "stdout",
     "output_type": "stream",
     "text": [
      "<class 'pandas.core.frame.DataFrame'>\n",
      "Int64Index: 15652 entries, 0 to 15651\n",
      "Data columns (total 4 columns):\n",
      " #   Column                Non-Null Count  Dtype \n",
      "---  ------                --------------  ----- \n",
      " 0   Author                15652 non-null  object\n",
      " 1   Title                 15652 non-null  object\n",
      " 2   Poetry Foundation ID  15652 non-null  int64 \n",
      " 3   Content               15652 non-null  object\n",
      "dtypes: int64(1), object(3)\n",
      "memory usage: 611.4+ KB\n"
     ]
    }
   ],
   "source": [
    "data.info()"
   ]
  },
  {
   "cell_type": "code",
   "execution_count": 6,
   "id": "6048ff7d",
   "metadata": {
    "scrolled": true
   },
   "outputs": [
    {
     "data": {
      "text/html": [
       "<div>\n",
       "<style scoped>\n",
       "    .dataframe tbody tr th:only-of-type {\n",
       "        vertical-align: middle;\n",
       "    }\n",
       "\n",
       "    .dataframe tbody tr th {\n",
       "        vertical-align: top;\n",
       "    }\n",
       "\n",
       "    .dataframe thead th {\n",
       "        text-align: right;\n",
       "    }\n",
       "</style>\n",
       "<table border=\"1\" class=\"dataframe\">\n",
       "  <thead>\n",
       "    <tr style=\"text-align: right;\">\n",
       "      <th></th>\n",
       "      <th>Author</th>\n",
       "      <th>Title</th>\n",
       "      <th>Poetry Foundation ID</th>\n",
       "      <th>Content</th>\n",
       "    </tr>\n",
       "  </thead>\n",
       "  <tbody>\n",
       "    <tr>\n",
       "      <th>560</th>\n",
       "      <td>Wallace Stevens</td>\n",
       "      <td>Anecdote of the Jar</td>\n",
       "      <td>51648</td>\n",
       "      <td>I placed a jar in Tennessee,\\nAnd round it was...</td>\n",
       "    </tr>\n",
       "    <tr>\n",
       "      <th>561</th>\n",
       "      <td>Wallace Stevens</td>\n",
       "      <td>Anecdote of the Jar</td>\n",
       "      <td>14575</td>\n",
       "      <td>I placed a jar in Tennessee,\\nAnd round it was...</td>\n",
       "    </tr>\n",
       "    <tr>\n",
       "      <th>1467</th>\n",
       "      <td>W. S. Di Piero</td>\n",
       "      <td>Big City Speech</td>\n",
       "      <td>55621</td>\n",
       "      <td>Use me\\nAbuse me\\nTurn wheels of ﬁre\\non manho...</td>\n",
       "    </tr>\n",
       "    <tr>\n",
       "      <th>1468</th>\n",
       "      <td>W. S. Di Piero</td>\n",
       "      <td>Big City Speech</td>\n",
       "      <td>52599</td>\n",
       "      <td>Use me\\nAbuse me\\nTurn wheels of ﬁre\\non manho...</td>\n",
       "    </tr>\n",
       "    <tr>\n",
       "      <th>1883</th>\n",
       "      <td>Ben Lerner</td>\n",
       "      <td>[By any measure . . .]</td>\n",
       "      <td>53660</td>\n",
       "      <td>By any measure, it was endless\\nwinter. Emulsi...</td>\n",
       "    </tr>\n",
       "    <tr>\n",
       "      <th>1884</th>\n",
       "      <td>Ben Lerner</td>\n",
       "      <td>[By any measure]</td>\n",
       "      <td>53702</td>\n",
       "      <td>By any measure, it was endless\\nwinter. Emulsi...</td>\n",
       "    </tr>\n",
       "    <tr>\n",
       "      <th>2723</th>\n",
       "      <td>Anonymous</td>\n",
       "      <td>The Cuckoo Song</td>\n",
       "      <td>51454</td>\n",
       "      <td>Sing, cuccu, nu. Sing, cuccu.\\nSing, cuccu. Si...</td>\n",
       "    </tr>\n",
       "    <tr>\n",
       "      <th>5351</th>\n",
       "      <td>David Ferry</td>\n",
       "      <td>The Guest Ellen at the Supper for Street People</td>\n",
       "      <td>54841</td>\n",
       "      <td>The unclean spirits cry out in the body\\nOr mi...</td>\n",
       "    </tr>\n",
       "    <tr>\n",
       "      <th>5352</th>\n",
       "      <td>David Ferry</td>\n",
       "      <td>The Guest Ellen at the Supper for Street People</td>\n",
       "      <td>43395</td>\n",
       "      <td>The unclean spirits cry out in the body\\nOr mi...</td>\n",
       "    </tr>\n",
       "    <tr>\n",
       "      <th>5741</th>\n",
       "      <td>Warsan Shire</td>\n",
       "      <td>The House</td>\n",
       "      <td>90733</td>\n",
       "      <td>i</td>\n",
       "    </tr>\n",
       "    <tr>\n",
       "      <th>6720</th>\n",
       "      <td>Janet Eigner</td>\n",
       "      <td>Isaac’s Blessing</td>\n",
       "      <td>55458</td>\n",
       "      <td>When Isaac, a small, freckled boy\\napproaching...</td>\n",
       "    </tr>\n",
       "    <tr>\n",
       "      <th>6721</th>\n",
       "      <td>Janet Eigner</td>\n",
       "      <td>Isaac's Blessing</td>\n",
       "      <td>56534</td>\n",
       "      <td>When Isaac, a small, freckled boy\\napproaching...</td>\n",
       "    </tr>\n",
       "    <tr>\n",
       "      <th>7288</th>\n",
       "      <td>David Ferry</td>\n",
       "      <td>Learning from History</td>\n",
       "      <td>54835</td>\n",
       "      <td>They said, my saints, my slogan-sayers sang,\\n...</td>\n",
       "    </tr>\n",
       "    <tr>\n",
       "      <th>7289</th>\n",
       "      <td>David Ferry</td>\n",
       "      <td>Learning from History</td>\n",
       "      <td>43392</td>\n",
       "      <td>They said, my saints, my slogan-sayers sang,\\n...</td>\n",
       "    </tr>\n",
       "    <tr>\n",
       "      <th>8022</th>\n",
       "      <td>Cathy Song</td>\n",
       "      <td>The Man Moves Earth\\n \\n \\n  \\n   Launch Audio...</td>\n",
       "      <td>12574</td>\n",
       "      <td>The man moves earth\\nto dispel grief.\\nHe digs...</td>\n",
       "    </tr>\n",
       "    <tr>\n",
       "      <th>8023</th>\n",
       "      <td>Cathy Song</td>\n",
       "      <td>The Man Moves Earth</td>\n",
       "      <td>43371</td>\n",
       "      <td>The man moves earth\\nto dispel grief.\\nHe digs...</td>\n",
       "    </tr>\n",
       "    <tr>\n",
       "      <th>8271</th>\n",
       "      <td>David Mason</td>\n",
       "      <td>Mending Time</td>\n",
       "      <td>144177</td>\n",
       "      <td>The fence was down. Out among humid smells\\nan...</td>\n",
       "    </tr>\n",
       "    <tr>\n",
       "      <th>8272</th>\n",
       "      <td>David Mason</td>\n",
       "      <td>Mending Time</td>\n",
       "      <td>146350</td>\n",
       "      <td>The fence was down. Out among humid smells\\nan...</td>\n",
       "    </tr>\n",
       "    <tr>\n",
       "      <th>9029</th>\n",
       "      <td>W. S. Di Piero</td>\n",
       "      <td>New Endymion</td>\n",
       "      <td>55615</td>\n",
       "      <td>She visits still too much, dressed in aromas\\n...</td>\n",
       "    </tr>\n",
       "    <tr>\n",
       "      <th>9030</th>\n",
       "      <td>W. S. Di Piero</td>\n",
       "      <td>New Endymion\\n \\n \\n  \\n   Launch Audio in a N...</td>\n",
       "      <td>52960</td>\n",
       "      <td>She visits still too much, dressed in aromas\\n...</td>\n",
       "    </tr>\n",
       "    <tr>\n",
       "      <th>10463</th>\n",
       "      <td>Jupiter Hammon</td>\n",
       "      <td>A Poem for Children with Thoughts on Death</td>\n",
       "      <td>52561</td>\n",
       "      <td>I</td>\n",
       "    </tr>\n",
       "    <tr>\n",
       "      <th>12782</th>\n",
       "      <td>Seamus Heaney</td>\n",
       "      <td>from\\n  \\n  \\n   Squarings\\n  \\n  : Lightenings</td>\n",
       "      <td>57045</td>\n",
       "      <td>i</td>\n",
       "    </tr>\n",
       "    <tr>\n",
       "      <th>13029</th>\n",
       "      <td>Anonymous</td>\n",
       "      <td>Sumer is i-cumin in</td>\n",
       "      <td>51000</td>\n",
       "      <td>Sing, cuccu, nu. Sing, cuccu.\\nSing, cuccu. Si...</td>\n",
       "    </tr>\n",
       "    <tr>\n",
       "      <th>13079</th>\n",
       "      <td>Wallace Stevens</td>\n",
       "      <td>Sunday Morning</td>\n",
       "      <td>13261</td>\n",
       "      <td>I</td>\n",
       "    </tr>\n",
       "    <tr>\n",
       "      <th>14042</th>\n",
       "      <td>Gottfried Benn</td>\n",
       "      <td>Tracing</td>\n",
       "      <td>54406</td>\n",
       "      <td>i</td>\n",
       "    </tr>\n",
       "    <tr>\n",
       "      <th>14474</th>\n",
       "      <td>Nancy Willard</td>\n",
       "      <td>The Vanity of the Dragonfly</td>\n",
       "      <td>144777</td>\n",
       "      <td>The dragonfly at rest on the doorbell—\\ntoo we...</td>\n",
       "    </tr>\n",
       "    <tr>\n",
       "      <th>14475</th>\n",
       "      <td>Nancy Willard</td>\n",
       "      <td>The Vanity of the Dragonfly</td>\n",
       "      <td>56500</td>\n",
       "      <td>The dragonfly at rest on the doorbell—\\ntoo we...</td>\n",
       "    </tr>\n",
       "  </tbody>\n",
       "</table>\n",
       "</div>"
      ],
      "text/plain": [
       "                Author                                              Title  \\\n",
       "560    Wallace Stevens                                Anecdote of the Jar   \n",
       "561    Wallace Stevens                                Anecdote of the Jar   \n",
       "1467    W. S. Di Piero                                    Big City Speech   \n",
       "1468    W. S. Di Piero                                    Big City Speech   \n",
       "1883        Ben Lerner                             [By any measure . . .]   \n",
       "1884        Ben Lerner                                   [By any measure]   \n",
       "2723         Anonymous                                    The Cuckoo Song   \n",
       "5351       David Ferry    The Guest Ellen at the Supper for Street People   \n",
       "5352       David Ferry    The Guest Ellen at the Supper for Street People   \n",
       "5741      Warsan Shire                                          The House   \n",
       "6720      Janet Eigner                                   Isaac’s Blessing   \n",
       "6721      Janet Eigner                                   Isaac's Blessing   \n",
       "7288       David Ferry                              Learning from History   \n",
       "7289       David Ferry                              Learning from History   \n",
       "8022        Cathy Song  The Man Moves Earth\\n \\n \\n  \\n   Launch Audio...   \n",
       "8023        Cathy Song                                The Man Moves Earth   \n",
       "8271       David Mason                                       Mending Time   \n",
       "8272       David Mason                                       Mending Time   \n",
       "9029    W. S. Di Piero                                       New Endymion   \n",
       "9030    W. S. Di Piero  New Endymion\\n \\n \\n  \\n   Launch Audio in a N...   \n",
       "10463   Jupiter Hammon         A Poem for Children with Thoughts on Death   \n",
       "12782    Seamus Heaney    from\\n  \\n  \\n   Squarings\\n  \\n  : Lightenings   \n",
       "13029        Anonymous                                Sumer is i-cumin in   \n",
       "13079  Wallace Stevens                                     Sunday Morning   \n",
       "14042   Gottfried Benn                                            Tracing   \n",
       "14474    Nancy Willard                        The Vanity of the Dragonfly   \n",
       "14475    Nancy Willard                        The Vanity of the Dragonfly   \n",
       "\n",
       "       Poetry Foundation ID                                            Content  \n",
       "560                   51648  I placed a jar in Tennessee,\\nAnd round it was...  \n",
       "561                   14575  I placed a jar in Tennessee,\\nAnd round it was...  \n",
       "1467                  55621  Use me\\nAbuse me\\nTurn wheels of ﬁre\\non manho...  \n",
       "1468                  52599  Use me\\nAbuse me\\nTurn wheels of ﬁre\\non manho...  \n",
       "1883                  53660  By any measure, it was endless\\nwinter. Emulsi...  \n",
       "1884                  53702  By any measure, it was endless\\nwinter. Emulsi...  \n",
       "2723                  51454  Sing, cuccu, nu. Sing, cuccu.\\nSing, cuccu. Si...  \n",
       "5351                  54841  The unclean spirits cry out in the body\\nOr mi...  \n",
       "5352                  43395  The unclean spirits cry out in the body\\nOr mi...  \n",
       "5741                  90733                                                  i  \n",
       "6720                  55458  When Isaac, a small, freckled boy\\napproaching...  \n",
       "6721                  56534  When Isaac, a small, freckled boy\\napproaching...  \n",
       "7288                  54835  They said, my saints, my slogan-sayers sang,\\n...  \n",
       "7289                  43392  They said, my saints, my slogan-sayers sang,\\n...  \n",
       "8022                  12574  The man moves earth\\nto dispel grief.\\nHe digs...  \n",
       "8023                  43371  The man moves earth\\nto dispel grief.\\nHe digs...  \n",
       "8271                 144177  The fence was down. Out among humid smells\\nan...  \n",
       "8272                 146350  The fence was down. Out among humid smells\\nan...  \n",
       "9029                  55615  She visits still too much, dressed in aromas\\n...  \n",
       "9030                  52960  She visits still too much, dressed in aromas\\n...  \n",
       "10463                 52561                                                  I  \n",
       "12782                 57045                                                  i  \n",
       "13029                 51000  Sing, cuccu, nu. Sing, cuccu.\\nSing, cuccu. Si...  \n",
       "13079                 13261                                                  I  \n",
       "14042                 54406                                                  i  \n",
       "14474                144777  The dragonfly at rest on the doorbell—\\ntoo we...  \n",
       "14475                 56500  The dragonfly at rest on the doorbell—\\ntoo we...  "
      ]
     },
     "execution_count": 6,
     "metadata": {},
     "output_type": "execute_result"
    }
   ],
   "source": [
    "# Take just the poems\n",
    "poems = data[\"Content\"]\n",
    "\n",
    "#Show lines with duplicate poems\n",
    "data[poems.isin(poems[poems.duplicated()])]"
   ]
  },
  {
   "cell_type": "code",
   "execution_count": 7,
   "id": "f7add112",
   "metadata": {},
   "outputs": [],
   "source": [
    "# Remove duplicates\n",
    "poems.drop_duplicates(inplace=True)"
   ]
  },
  {
   "cell_type": "code",
   "execution_count": 8,
   "id": "ba5d9a17",
   "metadata": {},
   "outputs": [
    {
     "name": "stdout",
     "output_type": "stream",
     "text": [
      "15638\n"
     ]
    }
   ],
   "source": [
    "# Poems after duplicates filtered\n",
    "print(poems.size)"
   ]
  },
  {
   "cell_type": "code",
   "execution_count": 9,
   "id": "5a4f11bd",
   "metadata": {},
   "outputs": [],
   "source": [
    "# remove first introduction row\n",
    "poems = poems.iloc[1:]"
   ]
  },
  {
   "cell_type": "code",
   "execution_count": 10,
   "id": "8534e9cf",
   "metadata": {},
   "outputs": [
    {
     "name": "stdout",
     "output_type": "stream",
     "text": [
      "1        Philosophic\\nin its complex, ovoid emptiness,\\...\n",
      "2        We'd  like  to  talk  with  you  about  fear t...\n",
      "3        The Wise Men will unlearn your name.\\nAbove yo...\n",
      "4        For Jack Collom\\n10 Things I do Every Day\\n\\np...\n",
      "5        WINTER\\nMore time is spent at the window.\\n\\nS...\n",
      "                               ...                        \n",
      "15647    It’s too cold to smoke outside, but if you com...\n",
      "15648    if you like let the body feel\\nall its own evo...\n",
      "15649    (A fortune cookie)\\nOminous inscrutable Chines...\n",
      "15650    1\\nOur last night in the house was not our las...\n",
      "15651    If your house\\nis a dress\\nit’ll fit like\\nLos...\n",
      "Name: Content, Length: 15637, dtype: object\n"
     ]
    }
   ],
   "source": [
    "print(poems)"
   ]
  },
  {
   "cell_type": "code",
   "execution_count": 11,
   "id": "8702f02b",
   "metadata": {},
   "outputs": [],
   "source": [
    "# Concatenate poems to one string\n",
    "concatPoems = ''\n",
    "\n",
    "# How many poems to select\n",
    "poemCount = 50 \n",
    "\n",
    "# Take n random poems\n",
    "nPoems = poems.sample(poemCount)\n",
    "\n",
    "for content in nPoems:\n",
    "    str = content.replace('\\xa0','') # Remove double space\n",
    "    concatPoems += str+ '\\n'"
   ]
  },
  {
   "cell_type": "code",
   "execution_count": 12,
   "id": "5333fdf2",
   "metadata": {},
   "outputs": [
    {
     "data": {
      "text/plain": [
       "56059"
      ]
     },
     "execution_count": 12,
     "metadata": {},
     "output_type": "execute_result"
    }
   ],
   "source": [
    "len(concatPoems)"
   ]
  },
  {
   "cell_type": "code",
   "execution_count": 13,
   "id": "630f9aa9",
   "metadata": {},
   "outputs": [
    {
     "name": "stdout",
     "output_type": "stream",
     "text": [
      "Total number of words in corpus: 3191\n"
     ]
    }
   ],
   "source": [
    "# Tokenizing the poems\n",
    "tokenizer = Tokenizer()\n",
    "\n",
    "# Define a corpus\n",
    "corpus = concatPoems.lower().split(\"\\n\")\n",
    "tokenizer.fit_on_texts(corpus)\n",
    "\n",
    "total_words = len(tokenizer.word_index) + 1\n",
    "print('Total number of words in corpus:',total_words)"
   ]
  },
  {
   "cell_type": "code",
   "execution_count": 14,
   "id": "bfbb93ec",
   "metadata": {},
   "outputs": [],
   "source": [
    "# create input sequences using list of tokens\n",
    "sequences = []\n",
    "for line in corpus:\n",
    "    token_list = tokenizer.texts_to_sequences([line])[0]\n",
    "    for i in range(1, len(token_list)):\n",
    "        n_gram_sequence = token_list[:i+1]\n",
    "        sequences.append(n_gram_sequence)\n",
    "\n",
    "# Max sequence length\n",
    "max_sequence_len = 0\n",
    "for x in sequences:\n",
    "    current_len = len(x)\n",
    "    if(max_sequence_len < current_len):\n",
    "        max_sequence_len = current_len\n",
    "\n",
    "# Pad the sequences with zeros\n",
    "sequences = pad_sequences(sequences, maxlen=max_sequence_len)"
   ]
  },
  {
   "cell_type": "code",
   "execution_count": 15,
   "id": "5293fa32",
   "metadata": {},
   "outputs": [
    {
     "name": "stdout",
     "output_type": "stream",
     "text": [
      "[[  0   0   0 ...   0   0   6]\n",
      " [  0   0   0 ...   0   6  41]\n",
      " [  0   0   0 ...   6  41  38]\n",
      " ...\n",
      " [  0   0   0 ...   2  91 707]\n",
      " [  0   0   0 ...  91 707   8]\n",
      " [  0   0   0 ... 707   8 305]]\n"
     ]
    }
   ],
   "source": [
    "# create X and y\n",
    "X = sequences[:, :-1]\n",
    "print(X)"
   ]
  },
  {
   "cell_type": "code",
   "execution_count": 16,
   "id": "f2cd65f9",
   "metadata": {},
   "outputs": [
    {
     "name": "stdout",
     "output_type": "stream",
     "text": [
      "[ 41  38  70 ...   8 305 253]\n"
     ]
    }
   ],
   "source": [
    "y = sequences[:,-1]\n",
    "print(y)"
   ]
  },
  {
   "cell_type": "code",
   "execution_count": 17,
   "id": "437df324",
   "metadata": {},
   "outputs": [],
   "source": [
    "# One hot encoding for y\n",
    "y = to_categorical(y, num_classes=total_words)"
   ]
  },
  {
   "cell_type": "code",
   "execution_count": 18,
   "id": "b8447a4d",
   "metadata": {},
   "outputs": [],
   "source": [
    "# Defining the model.\n",
    "def create_model(nodes1, nodes2, dropout1, dropout2):\n",
    "    model = Sequential()\n",
    "\n",
    "    model.add(Embedding(input_dim=total_words, output_dim=100, input_length=max_sequence_len-1))\n",
    "    model.add(Dropout(dropout1))\n",
    "    model.add(Bidirectional(LSTM(nodes1,return_sequences=True)))\n",
    "    model.add(Dropout(dropout2))\n",
    "    model.add(Bidirectional(LSTM(nodes2)))\n",
    "    model.add(Dense(total_words,activation='softmax'))\n",
    "\n",
    "    model.compile(loss='categorical_crossentropy',optimizer = 'adam',metrics = ['accuracy'])\n",
    "    print(model.summary())\n",
    "    \n",
    "    return model"
   ]
  },
  {
   "cell_type": "code",
   "execution_count": null,
   "id": "479d745c",
   "metadata": {
    "scrolled": true
   },
   "outputs": [],
   "source": [
    "# Keras wrapper\n",
    "model = KerasClassifier(build_fn=create_model)\n",
    "\n",
    "nodes1 = [256, 230, 200]\n",
    "nodes2 = [128]\n",
    "dropout1 = [0.2]\n",
    "dropout2 = [0.3]\n",
    "batch_size = [32]\n",
    "\n",
    "param_grid = dict(nodes1=nodes1, nodes2=nodes2, dropout1=dropout1, dropout2=dropout2, batch_size=batch_size)\n",
    "\n",
    "grid_search = GridSearchCV(estimator=model, param_grid=param_grid, n_jobs=-1, cv = [(slice(None), slice(None))])\n",
    "grid_result = grid_search.fit(X, y, epochs = 50)"
   ]
  },
  {
   "cell_type": "code",
   "execution_count": 22,
   "id": "1bd0e9f3",
   "metadata": {},
   "outputs": [
    {
     "name": "stdout",
     "output_type": "stream",
     "text": [
      "Best accuracy: 0.0335712693631649\n",
      "Best params: {'batch_size': 32, 'dropout1': 0.2, 'dropout2': 0.3, 'nodes1': 200, 'nodes2': 128}\n"
     ]
    }
   ],
   "source": [
    "bestNodes1 = [(grid_result.best_params_).get('nodes1')]\n",
    "print(\"Best accuracy:\", grid_result.best_score_)\n",
    "print(\"Best params:\", grid_result.best_params_)"
   ]
  },
  {
   "cell_type": "code",
   "execution_count": null,
   "id": "2d8db7f6",
   "metadata": {
    "scrolled": true
   },
   "outputs": [],
   "source": [
    "model = KerasClassifier(build_fn=create_model)\n",
    "\n",
    "nodes1 = bestNodes1\n",
    "nodes2 = [128, 100, 90]\n",
    "dropout1 = [0.2]\n",
    "dropout2 = [0.3]\n",
    "batch_size = [32]\n",
    "\n",
    "param_grid = dict(nodes1=nodes1, nodes2=nodes2, dropout1=dropout1, dropout2=dropout2, batch_size=batch_size)\n",
    "\n",
    "grid_search = GridSearchCV(estimator=model, param_grid=param_grid, n_jobs=-1, cv=[(slice(None), slice(None))])\n",
    "grid_result = grid_search.fit(X, y, epochs = 50)"
   ]
  },
  {
   "cell_type": "code",
   "execution_count": 27,
   "id": "3d8e3e7b",
   "metadata": {},
   "outputs": [
    {
     "name": "stdout",
     "output_type": "stream",
     "text": [
      "Best accuracy: 0.13484273850917816\n",
      "Best params: {'batch_size': 32, 'dropout1': 0.2, 'dropout2': 0.3, 'nodes1': 200, 'nodes2': 128}\n"
     ]
    }
   ],
   "source": [
    "bestNodes2 = [(grid_result.best_params_).get('nodes2')]\n",
    "print(\"Best accuracy:\", grid_result.best_score_)\n",
    "print(\"Best params:\", grid_result.best_params_)"
   ]
  },
  {
   "cell_type": "code",
   "execution_count": null,
   "id": "27291e67",
   "metadata": {
    "scrolled": true
   },
   "outputs": [],
   "source": [
    "model = KerasClassifier(build_fn=create_model)\n",
    "\n",
    "nodes1 = bestNodes1\n",
    "nodes2 = bestNodes2\n",
    "dropout1 = [0.2,0.25,0.3]\n",
    "dropout2 = [0.3]\n",
    "batch_size = [32]\n",
    "\n",
    "param_grid = dict(nodes1=nodes1, nodes2=nodes2, dropout1=dropout1, dropout2=dropout2, batch_size=batch_size)\n",
    "\n",
    "grid_search = GridSearchCV(estimator=model, param_grid=param_grid, n_jobs=-1, cv=[(slice(None), slice(None))])\n",
    "grid_result = grid_search.fit(X, y, epochs = 50)"
   ]
  },
  {
   "cell_type": "code",
   "execution_count": 29,
   "id": "01b94580",
   "metadata": {},
   "outputs": [
    {
     "name": "stdout",
     "output_type": "stream",
     "text": [
      "Best accuracy: 0.11967432498931885\n",
      "Best params: {'batch_size': 32, 'dropout1': 0.2, 'dropout2': 0.3, 'nodes1': 200, 'nodes2': 128}\n"
     ]
    }
   ],
   "source": [
    "bestDropout1 = [(grid_result.best_params_).get('dropout1')]\n",
    "print(\"Best accuracy:\", grid_result.best_score_)\n",
    "print(\"Best params:\", grid_result.best_params_)"
   ]
  },
  {
   "cell_type": "code",
   "execution_count": null,
   "id": "faa387d1",
   "metadata": {
    "scrolled": true
   },
   "outputs": [],
   "source": [
    "model = KerasClassifier(build_fn=create_model)\n",
    "\n",
    "nodes1 = bestNodes1\n",
    "nodes2 = bestNodes2\n",
    "dropout1 = bestDropout1\n",
    "dropout2 = [0.3,0.35,0.37]\n",
    "batch_size = [32]\n",
    "\n",
    "param_grid = dict(nodes1=nodes1, nodes2=nodes2, dropout1=dropout1, dropout2=dropout2, batch_size=batch_size)\n",
    "\n",
    "grid_search = GridSearchCV(estimator=model, param_grid=param_grid, n_jobs=-1, cv=[(slice(None), slice(None))])\n",
    "grid_result = grid_search.fit(X, y, epochs = 50)"
   ]
  },
  {
   "cell_type": "code",
   "execution_count": 31,
   "id": "e9ee1f98",
   "metadata": {},
   "outputs": [
    {
     "name": "stdout",
     "output_type": "stream",
     "text": [
      "Best accuracy: 0.13082757592201233\n",
      "Best params: {'batch_size': 32, 'dropout1': 0.2, 'dropout2': 0.35, 'nodes1': 200, 'nodes2': 128}\n"
     ]
    }
   ],
   "source": [
    "bestDropout2 = [(grid_result.best_params_).get('dropout2')]\n",
    "print(\"Best accuracy:\", grid_result.best_score_)\n",
    "print(\"Best params:\", grid_result.best_params_)"
   ]
  },
  {
   "cell_type": "code",
   "execution_count": null,
   "id": "9c0abfba",
   "metadata": {
    "scrolled": true
   },
   "outputs": [],
   "source": [
    "model = KerasClassifier(build_fn=create_model)\n",
    "\n",
    "nodes1 = bestNodes1\n",
    "nodes2 = bestNodes2\n",
    "dropout1 = bestDropout1\n",
    "dropout2 = bestDropout2\n",
    "batch_size = [32,64,16]\n",
    "\n",
    "param_grid = dict(nodes1=nodes1, nodes2=nodes2, dropout1=dropout1, dropout2=dropout2, batch_size=batch_size)\n",
    "\n",
    "grid_search = GridSearchCV(estimator=model, param_grid=param_grid, n_jobs=-1, cv=[(slice(None), slice(None))])\n",
    "grid_result = grid_search.fit(X, y, epochs = 50)"
   ]
  },
  {
   "cell_type": "code",
   "execution_count": 33,
   "id": "55f29855",
   "metadata": {},
   "outputs": [
    {
     "name": "stdout",
     "output_type": "stream",
     "text": [
      "Best accuracy: 0.12859691679477692\n",
      "Best params: {'batch_size': 32, 'dropout1': 0.2, 'dropout2': 0.35, 'nodes1': 200, 'nodes2': 128}\n"
     ]
    }
   ],
   "source": [
    "bestBatch = [(grid_result.best_params_).get('batch_size')]\n",
    "print(\"Best accuracy:\", grid_result.best_score_)\n",
    "print(\"Best params:\", grid_result.best_params_)"
   ]
  }
 ],
 "metadata": {
  "kernelspec": {
   "display_name": "Python 3",
   "language": "python",
   "name": "python3"
  },
  "language_info": {
   "codemirror_mode": {
    "name": "ipython",
    "version": 3
   },
   "file_extension": ".py",
   "mimetype": "text/x-python",
   "name": "python",
   "nbconvert_exporter": "python",
   "pygments_lexer": "ipython3",
   "version": "3.9.7"
  }
 },
 "nbformat": 4,
 "nbformat_minor": 5
}
